{
  "cells": [
    {
      "cell_type": "markdown",
      "metadata": {},
      "source": [
        "# 🛡️ CANShield Robust Training on Google Colab\n",
        "\n",
        "Train an adversarially robust deep learning IDS for CAN bus traffic.\n",
        "\n",
        "**Benefits:**\n",
        "- ✅ Free GPU (Tesla T4/K80)\n",
        "- ✅ 12-13 GB RAM (vs 8GB on Mac)\n",
        "- ✅ Train on **full dataset** (all 4 training files)\n",
        "- ✅ **3-4x faster** training\n",
        "\n",
        "**Estimated Time:** 15-20 minutes (vs 40+ min on 8GB Mac)\n"
      ]
    }
  ],
  "metadata": {
    "language_info": {
      "name": "python"
    }
  },
  "nbformat": 4,
  "nbformat_minor": 2
}
